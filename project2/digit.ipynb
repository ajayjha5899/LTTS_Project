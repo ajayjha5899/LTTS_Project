{
 "cells": [
  {
   "cell_type": "markdown",
   "source": [
    "# Digit Recognizer\n"
   ],
   "metadata": {}
  },
  {
   "cell_type": "markdown",
   "source": [
    "## Importing libraries\n",
    "* <i>pandas</i> for importing datasets and pre-processing.\n",
    "* <i>numpy</i> for mathmematical operations.\n",
    "* <i>matplotlib</i> and <i>seaborn</i> for graphical visualization.\n",
    "* <i>keras</i> and <i>sklearn</i> for model construction, model fitting and model accuracy calculation.\n"
   ],
   "metadata": {}
  },
  {
   "cell_type": "code",
   "execution_count": 1,
   "source": [
    "import pandas as pd\n",
    "\n",
    "import numpy as np\n",
    "\n",
    "from matplotlib import pyplot as plt\n",
    "import seaborn as sns\n",
    "\n",
    "from keras.models import Sequential\n",
    "from keras.layers import Dense , Dropout , Lambda, Flatten\n",
    "from keras.optimizers import Adam ,RMSprop\n",
    "from sklearn.model_selection import train_test_split\n",
    "from keras import  backend as K\n",
    "from keras.preprocessing.image import ImageDataGenerator\n",
    "\n",
    "from keras.models import  Sequential\n",
    "from keras.layers.core import  Lambda , Dense, Flatten, Dropout\n",
    "from keras.callbacks import EarlyStopping\n",
    "from keras.layers import BatchNormalization, Convolution2D , MaxPooling2D\n",
    "from keras.preprocessing import image\n",
    "from sklearn.model_selection import train_test_split"
   ],
   "outputs": [],
   "metadata": {}
  },
  {
   "cell_type": "markdown",
   "source": [
    "## Importing training and testing datasets\n",
    "* 42000 samples of 28x28 images of handwritten digits.\n",
    "* Each column represents pixel value for each of the 784 pixels.\n",
    "* One additional column is for the label of the digit that row represents."
   ],
   "metadata": {}
  },
  {
   "cell_type": "code",
   "execution_count": 2,
   "source": [
    "train_data = pd.read_csv(\"train.csv\")\n",
    "test_data = pd.read_csv(\"test.csv\")\n",
    "\n",
    "train_data.shape\n",
    "#display(train_data.head())\n",
    "#display(test_data.head())"
   ],
   "outputs": [
    {
     "output_type": "execute_result",
     "data": {
      "text/plain": [
       "(42000, 785)"
      ]
     },
     "metadata": {},
     "execution_count": 2
    }
   ],
   "metadata": {}
  },
  {
   "cell_type": "code",
   "execution_count": 114,
   "source": [
    "X_train = (train_data.iloc[:,1:].values).astype('float32') \n",
    "Y_train = train_data.iloc[:,0].values.astype('int32')\n",
    "X_test = test_data.values.astype('float32')"
   ],
   "outputs": [],
   "metadata": {}
  },
  {
   "cell_type": "code",
   "execution_count": 115,
   "source": [
    "X_train"
   ],
   "outputs": [
    {
     "output_type": "execute_result",
     "data": {
      "text/plain": [
       "array([[0., 0., 0., ..., 0., 0., 0.],\n",
       "       [0., 0., 0., ..., 0., 0., 0.],\n",
       "       [0., 0., 0., ..., 0., 0., 0.],\n",
       "       ...,\n",
       "       [0., 0., 0., ..., 0., 0., 0.],\n",
       "       [0., 0., 0., ..., 0., 0., 0.],\n",
       "       [0., 0., 0., ..., 0., 0., 0.]], dtype=float32)"
      ]
     },
     "metadata": {},
     "execution_count": 115
    }
   ],
   "metadata": {}
  },
  {
   "cell_type": "code",
   "execution_count": 116,
   "source": [
    "Y_train"
   ],
   "outputs": [
    {
     "output_type": "execute_result",
     "data": {
      "text/plain": [
       "array([1, 0, 1, ..., 7, 6, 9], dtype=int32)"
      ]
     },
     "metadata": {},
     "execution_count": 116
    }
   ],
   "metadata": {}
  },
  {
   "cell_type": "markdown",
   "source": [
    "## Data Visualization\n",
    "* Reshaping flattened pixel values into a 28x28 matrix.\n",
    "* Plotting the first 5 images along with the digit label as plot title."
   ],
   "metadata": {}
  },
  {
   "cell_type": "code",
   "execution_count": 117,
   "source": [
    "X_train = X_train.reshape(X_train.shape[0], 28, 28)\n",
    "\n",
    "fig, axs = plt.subplots(1,5,figsize=(28,28))\n",
    "\n",
    "for i in range(5):\n",
    "    axs[i].imshow(X_train[i], cmap=plt.get_cmap('gray'))\n",
    "    axs[i].set_title(Y_train[i]);"
   ],
   "outputs": [
    {
     "output_type": "display_data",
     "data": {
      "text/plain": [
       "<Figure size 2016x2016 with 5 Axes>"
      ],
      "image/png": "[encoded data removed]"
     },
     "metadata": {
      "needs_background": "light"
     }
    }
   ],
   "metadata": {}
  },
  {
   "cell_type": "markdown",
   "source": [
    "## Data Pre-processing"
   ],
   "metadata": {}
  },
  {
   "cell_type": "markdown",
   "source": [
    "### Adding color channel before feeding to NN\n",
    "* Adding an extra colour channel which will represent grey value."
   ],
   "metadata": {}
  },
  {
   "cell_type": "code",
   "execution_count": 118,
   "source": [
    "X_train = X_train.reshape(X_train.shape[0], 28, 28,1)\n",
    "X_test = X_test.reshape(X_test.shape[0], 28, 28,1)"
   ],
   "outputs": [],
   "metadata": {}
  },
  {
   "cell_type": "markdown",
   "source": [
    "### Feature scaling\n",
    "* Standardizing for zero mean and unit std dev."
   ],
   "metadata": {}
  },
  {
   "cell_type": "code",
   "execution_count": 119,
   "source": [
    "mean_px = X_train.mean().astype(np.float32)\n",
    "std_px = X_train.std().astype(np.float32)\n",
    "\n",
    "def standardize(x): \n",
    "    return (x-mean_px)/std_px"
   ],
   "outputs": [],
   "metadata": {}
  },
  {
   "cell_type": "markdown",
   "source": [
    "### Converting Y parameter to categorical\n",
    "* Output layer of the NN should contain 10 neurons, one for each digit."
   ],
   "metadata": {}
  },
  {
   "cell_type": "code",
   "execution_count": 120,
   "source": [
    "from keras.utils.np_utils import to_categorical\n",
    "Y_train= to_categorical(Y_train)\n",
    "num_classes = Y_train.shape[1]\n",
    "num_classes"
   ],
   "outputs": [
    {
     "output_type": "execute_result",
     "data": {
      "text/plain": [
       "10"
      ]
     },
     "metadata": {},
     "execution_count": 120
    }
   ],
   "metadata": {}
  },
  {
   "cell_type": "markdown",
   "source": [
    "## Building Machine Learning Model"
   ],
   "metadata": {}
  },
  {
   "cell_type": "markdown",
   "source": [
    "### Generating training and validation sets and creating batches"
   ],
   "metadata": {}
  },
  {
   "cell_type": "code",
   "execution_count": 123,
   "source": [
    "X = X_train\n",
    "Y = Y_train\n",
    "X_train, X_val, Y_train, Y_val = train_test_split(X_train, Y_train, test_size=0.10, random_state=42)\n",
    "gen = image.ImageDataGenerator()\n",
    "batches = gen.flow(X_train, Y_train, batch_size=64)\n",
    "val_batches=gen.flow(X_val, Y_val, batch_size=64)"
   ],
   "outputs": [],
   "metadata": {}
  },
  {
   "cell_type": "markdown",
   "source": [
    "### Building the NN\n",
    "* The input layer takes a 28 x 28 x 1 tensor which is standardized and flattened resulting in a input layer size of 784.\n",
    "* The output layer is of size 10, one perceptron for each of the 10 digits.\n",
    "* Using [this](https://stats.stackexchange.com/questions/181/how-to-choose-the-number-of-hidden-layers-and-nodes-in-a-feedforward-neural-netw) answer to choose the number of neurons in hidden layers."
   ],
   "metadata": {}
  },
  {
   "cell_type": "code",
   "execution_count": 124,
   "source": [
    "model = Sequential([\n",
    "        Lambda(standardize, input_shape=(28,28,1)),\n",
    "        Flatten(),\n",
    "        Dense(512, activation='relu'),\n",
    "        Dense(256, activation='relu'),\n",
    "        Dense(10, activation='softmax')\n",
    "        ])\n",
    "model.compile(optimizer='Adam', loss='categorical_crossentropy',metrics=['accuracy'])"
   ],
   "outputs": [],
   "metadata": {}
  },
  {
   "cell_type": "code",
   "execution_count": 125,
   "source": [
    "epochs = 3\n",
    "batch_size = batches.n/epochs\n",
    "history=model.fit(batches, batch_size=batch_size,epochs=epochs,validation_data=val_batches)"
   ],
   "outputs": [
    {
     "output_type": "stream",
     "name": "stdout",
     "text": [
      "Epoch 1/3\n",
      "591/591 [==============================] - 8s 9ms/step - loss: 0.3880 - accuracy: 0.8774 - val_loss: 0.1317 - val_accuracy: 0.9545\n",
      "Epoch 2/3\n",
      "591/591 [==============================] - 5s 8ms/step - loss: 0.0876 - accuracy: 0.9735 - val_loss: 0.1108 - val_accuracy: 0.9640\n",
      "Epoch 3/3\n",
      "591/591 [==============================] - 5s 9ms/step - loss: 0.0588 - accuracy: 0.9812 - val_loss: 0.0955 - val_accuracy: 0.9712\n"
     ]
    }
   ],
   "metadata": {}
  },
  {
   "cell_type": "markdown",
   "source": [
    "### Saving predictions\n",
    "* Saving predictions to .csv for submission."
   ],
   "metadata": {}
  },
  {
   "cell_type": "code",
   "execution_count": 126,
   "source": [
    "predictions = np.argmax(model.predict(X_test), axis=-1)\n",
    "\n",
    "submission=pd.DataFrame({\"ImageId\": list(range(1,len(predictions)+1)), \"Label\": predictions})\n",
    "submission.to_csv(\"my_submission.csv\", index=False, header=True)"
   ],
   "outputs": [],
   "metadata": {}
  }
 ],
 "metadata": {
  "orig_nbformat": 4,
  "language_info": {
   "name": "python"
  }
 },
 "nbformat": 4,
 "nbformat_minor": 2
}